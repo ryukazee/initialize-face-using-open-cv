{
 "cells": [
  {
   "cell_type": "markdown",
   "id": "3445930a",
   "metadata": {},
   "source": [
    "# generate dataset"
   ]
  },
  {
   "cell_type": "code",
   "execution_count": 1,
   "id": "cc47c092",
   "metadata": {},
   "outputs": [],
   "source": [
    "# library open cv\n",
    "import cv2"
   ]
  },
  {
   "cell_type": "code",
   "execution_count": 10,
   "id": "7a386ace",
   "metadata": {},
   "outputs": [
    {
     "name": "stderr",
     "output_type": "stream",
     "text": [
      "<>:7: SyntaxWarning: \"is\" with a literal. Did you mean \"==\"?\n",
      "<>:7: SyntaxWarning: \"is\" with a literal. Did you mean \"==\"?\n",
      "<ipython-input-10-f9ec8ec1c533>:7: SyntaxWarning: \"is\" with a literal. Did you mean \"==\"?\n",
      "  if face is (): #kosong\n"
     ]
    },
    {
     "name": "stdout",
     "output_type": "stream",
     "text": [
      "Gambar Telah Didapatkan!\n"
     ]
    }
   ],
   "source": [
    "def generate_dataset():\n",
    "    fc_classifier = cv2.CascadeClassifier(\"haarcascade_frontalface_default.xml\")\n",
    "    def face_crop(img):\n",
    "        gray = cv2.cvtColor(img, cv2.COLOR_BGR2GRAY)\n",
    "        face= fc_classifier.detectMultiScale(gray, 1.3, 5)\n",
    "        \n",
    "        if face is (): #kosong\n",
    "            return None\n",
    "        for (x,y,w,h) in face:\n",
    "            crop_face = img[y:y+h, x:x+w]\n",
    "            return crop_face\n",
    "        \n",
    "    cap = cv2.VideoCapture(1) #open camera local\n",
    "    img_a = 0\n",
    "        \n",
    "    while True:\n",
    "        ret, frame = cap.read()\n",
    "            \n",
    "        if face_crop(frame) is not None:\n",
    "            img_a +=1\n",
    "            fc = cv2.resize(face_crop(frame), (200,200))\n",
    "            fc = cv2.cvtColor(fc, cv2.COLOR_BGR2GRAY)\n",
    "            file_name_path = \"data/\" + \"Pisti.\"+str(img_a)+\".jpg\" \n",
    "            #buat direktory data di lokal kita\n",
    "            #ubah user = wijaya dengan nama lain sebanyak kelas yang diharapkan\n",
    "            cv2.imwrite(file_name_path, fc)\n",
    "            cv2.putText(fc, str(img_a), (50,50), cv2.FONT_HERSHEY_COMPLEX, 1, (0,255,0), 2)\n",
    "                \n",
    "            cv2.imshow(\"crop_face\", fc)\n",
    "            if cv2.waitKey(1)==13 or int(img_a)==100: #bebas mau berapa gambar tergantung kemampuan lokal\n",
    "            # waitkey 1 maksudnya klik enter atau escape untuk menghentikan looping sample data\n",
    "            # looping pengambilan gambar akan berhenti ketika gambar ada 30.\n",
    "                break\n",
    "            \n",
    "    cap.release()\n",
    "    cv2.destroyAllWindows() \n",
    "    print(\"Gambar Telah Didapatkan!\")\n",
    "        \n",
    "generate_dataset()"
   ]
  },
  {
   "cell_type": "code",
   "execution_count": 3,
   "id": "4d846d37",
   "metadata": {},
   "outputs": [
    {
     "ename": "NameError",
     "evalue": "name 'cap' is not defined",
     "output_type": "error",
     "traceback": [
      "\u001b[1;31m---------------------------------------------------------------------------\u001b[0m",
      "\u001b[1;31mNameError\u001b[0m                                 Traceback (most recent call last)",
      "\u001b[1;32m<ipython-input-3-37d044a27ce5>\u001b[0m in \u001b[0;36m<module>\u001b[1;34m\u001b[0m\n\u001b[1;32m----> 1\u001b[1;33m \u001b[0mcap\u001b[0m\u001b[1;33m.\u001b[0m\u001b[0mrelease\u001b[0m\u001b[1;33m(\u001b[0m\u001b[1;33m)\u001b[0m\u001b[1;33m\u001b[0m\u001b[1;33m\u001b[0m\u001b[0m\n\u001b[0m\u001b[0;32m      2\u001b[0m \u001b[0mcv2\u001b[0m\u001b[1;33m.\u001b[0m\u001b[0mdestroyAllWindows\u001b[0m\u001b[1;33m(\u001b[0m\u001b[1;33m)\u001b[0m\u001b[1;33m\u001b[0m\u001b[1;33m\u001b[0m\u001b[0m\n",
      "\u001b[1;31mNameError\u001b[0m: name 'cap' is not defined"
     ]
    }
   ],
   "source": [
    "cap.release()\n",
    "cv2.destroyAllWindows()"
   ]
  },
  {
   "cell_type": "code",
   "execution_count": null,
   "id": "828824c5",
   "metadata": {},
   "outputs": [],
   "source": []
  }
 ],
 "metadata": {
  "kernelspec": {
   "display_name": "Python 3",
   "language": "python",
   "name": "python3"
  },
  "language_info": {
   "codemirror_mode": {
    "name": "ipython",
    "version": 3
   },
   "file_extension": ".py",
   "mimetype": "text/x-python",
   "name": "python",
   "nbconvert_exporter": "python",
   "pygments_lexer": "ipython3",
   "version": "3.8.8"
  }
 },
 "nbformat": 4,
 "nbformat_minor": 5
}
